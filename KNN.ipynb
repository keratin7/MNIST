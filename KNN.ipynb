{
 "cells": [
  {
   "cell_type": "code",
   "execution_count": 2,
   "metadata": {
    "collapsed": false
   },
   "outputs": [
    {
     "name": "stderr",
     "output_type": "stream",
     "text": [
      "/usr/local/lib/python2.7/dist-packages/matplotlib/font_manager.py:273: UserWarning: Matplotlib is building the font cache using fc-list. This may take a moment.\n",
      "  warnings.warn('Matplotlib is building the font cache using fc-list. This may take a moment.')\n"
     ]
    }
   ],
   "source": [
    "import pandas as pd\n",
    "import matplotlib.pyplot as plt\n",
    "import numpy as np\n",
    "from collections import defaultdict\n",
    "from scipy.spatial.distance import *\n",
    "from math import *"
   ]
  },
  {
   "cell_type": "code",
   "execution_count": 3,
   "metadata": {
    "collapsed": false
   },
   "outputs": [],
   "source": [
    "ds = pd.read_csv('/home/keratin/Documents/CBML/mnist_data/train.csv')\n",
    "ds_test = pd.read_csv('/home/keratin/Documents/CBML/mnist_data/test.csv')\n",
    "#print ds.shape"
   ]
  },
  {
   "cell_type": "code",
   "execution_count": 17,
   "metadata": {
    "collapsed": false
   },
   "outputs": [
    {
     "name": "stdout",
     "output_type": "stream",
     "text": [
      "(42000, 784)\n",
      "(28000, 784)\n",
      "(42000,)\n"
     ]
    }
   ],
   "source": [
    "np.random.shuffle(ds.values)\n",
    "lab = ds.values[:,0]\n",
    "data = ds.values[:,1:]\n",
    "test_data = ds_test.values\n",
    "print data.shape\n",
    "print test_data.shape\n",
    "print lab.shape\n"
   ]
  },
  {
   "cell_type": "code",
   "execution_count": null,
   "metadata": {
    "collapsed": false
   },
   "outputs": [],
   "source": [
    "canberra(np.array([0, 0]), np.array([1, 1]))"
   ]
  },
  {
   "cell_type": "code",
   "execution_count": 19,
   "metadata": {
    "collapsed": false
   },
   "outputs": [],
   "source": [
    "def dist(a, b):\n",
    "    return np.sqrt(((b-a)**2).sum())"
   ]
  },
  {
   "cell_type": "code",
   "execution_count": 20,
   "metadata": {
    "collapsed": true
   },
   "outputs": [],
   "source": [
    "def knn(X_train, labels, X_test, k=5):\n",
    "    n_train = X_train.shape[0]\n",
    "    n_test = X_test.shape[0]\n",
    "    \n",
    "    test_lab = []\n",
    "    \n",
    "    \n",
    "    for iy in range(n_test):\n",
    "        distances = []\n",
    "        for ix in range(n_train):\n",
    "            d = braycurtis(X_train[ix], X_test[iy])\n",
    "            distances.append([d, labels[ix]])\n",
    "    \n",
    "        dist_sort = sorted(distances)\n",
    "        k_neighbours = np.asarray(dist_sort)[:k]\n",
    "        #print k_neighbours[:,1]\n",
    "        \n",
    "        d = defaultdict(int)\n",
    "        for i in k_neighbours[:,1]:\n",
    "            d[i] += 1\n",
    "        result = max(d.iteritems(), key=lambda x: x[1])\n",
    "        test_lab.append(result[0])\n",
    "    return test_lab"
   ]
  },
  {
   "cell_type": "code",
   "execution_count": null,
   "metadata": {
    "collapsed": false
   },
   "outputs": [
    {
     "name": "stdout",
     "output_type": "stream",
     "text": [
      "(17000, 784)\n"
     ]
    }
   ],
   "source": [
    "test_pt = test_data\n",
    "d = data[:17000]\n",
    "print d.shape\n",
    "l = lab[:17000]\n",
    "pred = knn(d, l, test_pt, k=5)"
   ]
  },
  {
   "cell_type": "code",
   "execution_count": 109,
   "metadata": {
    "collapsed": false
   },
   "outputs": [],
   "source": [
    "#print pred"
   ]
  },
  {
   "cell_type": "code",
   "execution_count": 110,
   "metadata": {
    "collapsed": false
   },
   "outputs": [],
   "source": [
    "#print lab[10000:10200]"
   ]
  },
  {
   "cell_type": "code",
   "execution_count": 111,
   "metadata": {
    "collapsed": false
   },
   "outputs": [],
   "source": [
    "#plt.imshow(test_pt[68].reshape((28, 28)), cmap='gray')\n",
    "#plt.show()"
   ]
  },
  {
   "cell_type": "code",
   "execution_count": 16,
   "metadata": {
    "collapsed": false
   },
   "outputs": [
    {
     "name": "stdout",
     "output_type": "stream",
     "text": [
      "97.0\n"
     ]
    }
   ],
   "source": [
    "from sklearn.metrics import accuracy_score\n",
    "print accuracy_score(pred,lab[20000:20100].tolist())*100"
   ]
  },
  {
   "cell_type": "code",
   "execution_count": null,
   "metadata": {
    "collapsed": false
   },
   "outputs": [],
   "source": [
    "import csv\n",
    "\n",
    "myfile = open('/home/keratin/Desktop/abc.csv', 'wb')\n",
    "wr = csv.writer(myfile, quoting=csv.QUOTE_ALL)\n",
    "for val in pred:\n",
    "        wr.writerow([val])"
   ]
  },
  {
   "cell_type": "code",
   "execution_count": null,
   "metadata": {
    "collapsed": false
   },
   "outputs": [],
   "source": [
    "print \"All done!\""
   ]
  },
  {
   "cell_type": "code",
   "execution_count": null,
   "metadata": {
    "collapsed": true
   },
   "outputs": [],
   "source": []
  }
 ],
 "metadata": {
  "anaconda-cloud": {},
  "kernelspec": {
   "display_name": "Python 2",
   "language": "python",
   "name": "python2"
  },
  "language_info": {
   "codemirror_mode": {
    "name": "ipython",
    "version": 2
   },
   "file_extension": ".py",
   "mimetype": "text/x-python",
   "name": "python",
   "nbconvert_exporter": "python",
   "pygments_lexer": "ipython2",
   "version": "2.7.6"
  }
 },
 "nbformat": 4,
 "nbformat_minor": 0
}
